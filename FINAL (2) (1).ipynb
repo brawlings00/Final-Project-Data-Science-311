{
 "cells": [
  {
   "cell_type": "code",
   "execution_count": 1,
   "id": "5760e63b-a4d8-46e6-a33d-b5d93a42a93c",
   "metadata": {},
   "outputs": [
    {
     "data": {
      "text/html": [
       "<div>\n",
       "<style scoped>\n",
       "    .dataframe tbody tr th:only-of-type {\n",
       "        vertical-align: middle;\n",
       "    }\n",
       "\n",
       "    .dataframe tbody tr th {\n",
       "        vertical-align: top;\n",
       "    }\n",
       "\n",
       "    .dataframe thead th {\n",
       "        text-align: right;\n",
       "    }\n",
       "</style>\n",
       "<table border=\"1\" class=\"dataframe\">\n",
       "  <thead>\n",
       "    <tr style=\"text-align: right;\">\n",
       "      <th></th>\n",
       "      <th>Team</th>\n",
       "      <th>League</th>\n",
       "      <th>Year</th>\n",
       "      <th>RS</th>\n",
       "      <th>RA</th>\n",
       "      <th>W</th>\n",
       "      <th>OBP</th>\n",
       "      <th>SLG</th>\n",
       "      <th>BA</th>\n",
       "      <th>Playoffs</th>\n",
       "      <th>RankSeason</th>\n",
       "      <th>RankPlayoffs</th>\n",
       "      <th>G</th>\n",
       "      <th>OOBP</th>\n",
       "      <th>OSLG</th>\n",
       "    </tr>\n",
       "  </thead>\n",
       "  <tbody>\n",
       "    <tr>\n",
       "      <th>0</th>\n",
       "      <td>ARI</td>\n",
       "      <td>NL</td>\n",
       "      <td>2012</td>\n",
       "      <td>734</td>\n",
       "      <td>688</td>\n",
       "      <td>81</td>\n",
       "      <td>0.328</td>\n",
       "      <td>0.418</td>\n",
       "      <td>0.259</td>\n",
       "      <td>0</td>\n",
       "      <td>NaN</td>\n",
       "      <td>NaN</td>\n",
       "      <td>162</td>\n",
       "      <td>0.317</td>\n",
       "      <td>0.415</td>\n",
       "    </tr>\n",
       "    <tr>\n",
       "      <th>1</th>\n",
       "      <td>ATL</td>\n",
       "      <td>NL</td>\n",
       "      <td>2012</td>\n",
       "      <td>700</td>\n",
       "      <td>600</td>\n",
       "      <td>94</td>\n",
       "      <td>0.320</td>\n",
       "      <td>0.389</td>\n",
       "      <td>0.247</td>\n",
       "      <td>1</td>\n",
       "      <td>4.0</td>\n",
       "      <td>5.0</td>\n",
       "      <td>162</td>\n",
       "      <td>0.306</td>\n",
       "      <td>0.378</td>\n",
       "    </tr>\n",
       "    <tr>\n",
       "      <th>2</th>\n",
       "      <td>BAL</td>\n",
       "      <td>AL</td>\n",
       "      <td>2012</td>\n",
       "      <td>712</td>\n",
       "      <td>705</td>\n",
       "      <td>93</td>\n",
       "      <td>0.311</td>\n",
       "      <td>0.417</td>\n",
       "      <td>0.247</td>\n",
       "      <td>1</td>\n",
       "      <td>5.0</td>\n",
       "      <td>4.0</td>\n",
       "      <td>162</td>\n",
       "      <td>0.315</td>\n",
       "      <td>0.403</td>\n",
       "    </tr>\n",
       "    <tr>\n",
       "      <th>3</th>\n",
       "      <td>BOS</td>\n",
       "      <td>AL</td>\n",
       "      <td>2012</td>\n",
       "      <td>734</td>\n",
       "      <td>806</td>\n",
       "      <td>69</td>\n",
       "      <td>0.315</td>\n",
       "      <td>0.415</td>\n",
       "      <td>0.260</td>\n",
       "      <td>0</td>\n",
       "      <td>NaN</td>\n",
       "      <td>NaN</td>\n",
       "      <td>162</td>\n",
       "      <td>0.331</td>\n",
       "      <td>0.428</td>\n",
       "    </tr>\n",
       "    <tr>\n",
       "      <th>4</th>\n",
       "      <td>CHC</td>\n",
       "      <td>NL</td>\n",
       "      <td>2012</td>\n",
       "      <td>613</td>\n",
       "      <td>759</td>\n",
       "      <td>61</td>\n",
       "      <td>0.302</td>\n",
       "      <td>0.378</td>\n",
       "      <td>0.240</td>\n",
       "      <td>0</td>\n",
       "      <td>NaN</td>\n",
       "      <td>NaN</td>\n",
       "      <td>162</td>\n",
       "      <td>0.335</td>\n",
       "      <td>0.424</td>\n",
       "    </tr>\n",
       "    <tr>\n",
       "      <th>...</th>\n",
       "      <td>...</td>\n",
       "      <td>...</td>\n",
       "      <td>...</td>\n",
       "      <td>...</td>\n",
       "      <td>...</td>\n",
       "      <td>...</td>\n",
       "      <td>...</td>\n",
       "      <td>...</td>\n",
       "      <td>...</td>\n",
       "      <td>...</td>\n",
       "      <td>...</td>\n",
       "      <td>...</td>\n",
       "      <td>...</td>\n",
       "      <td>...</td>\n",
       "      <td>...</td>\n",
       "    </tr>\n",
       "    <tr>\n",
       "      <th>1227</th>\n",
       "      <td>PHI</td>\n",
       "      <td>NL</td>\n",
       "      <td>1962</td>\n",
       "      <td>705</td>\n",
       "      <td>759</td>\n",
       "      <td>81</td>\n",
       "      <td>0.330</td>\n",
       "      <td>0.390</td>\n",
       "      <td>0.260</td>\n",
       "      <td>0</td>\n",
       "      <td>NaN</td>\n",
       "      <td>NaN</td>\n",
       "      <td>161</td>\n",
       "      <td>NaN</td>\n",
       "      <td>NaN</td>\n",
       "    </tr>\n",
       "    <tr>\n",
       "      <th>1228</th>\n",
       "      <td>PIT</td>\n",
       "      <td>NL</td>\n",
       "      <td>1962</td>\n",
       "      <td>706</td>\n",
       "      <td>626</td>\n",
       "      <td>93</td>\n",
       "      <td>0.321</td>\n",
       "      <td>0.394</td>\n",
       "      <td>0.268</td>\n",
       "      <td>0</td>\n",
       "      <td>NaN</td>\n",
       "      <td>NaN</td>\n",
       "      <td>161</td>\n",
       "      <td>NaN</td>\n",
       "      <td>NaN</td>\n",
       "    </tr>\n",
       "    <tr>\n",
       "      <th>1229</th>\n",
       "      <td>SFG</td>\n",
       "      <td>NL</td>\n",
       "      <td>1962</td>\n",
       "      <td>878</td>\n",
       "      <td>690</td>\n",
       "      <td>103</td>\n",
       "      <td>0.341</td>\n",
       "      <td>0.441</td>\n",
       "      <td>0.278</td>\n",
       "      <td>1</td>\n",
       "      <td>1.0</td>\n",
       "      <td>2.0</td>\n",
       "      <td>165</td>\n",
       "      <td>NaN</td>\n",
       "      <td>NaN</td>\n",
       "    </tr>\n",
       "    <tr>\n",
       "      <th>1230</th>\n",
       "      <td>STL</td>\n",
       "      <td>NL</td>\n",
       "      <td>1962</td>\n",
       "      <td>774</td>\n",
       "      <td>664</td>\n",
       "      <td>84</td>\n",
       "      <td>0.335</td>\n",
       "      <td>0.394</td>\n",
       "      <td>0.271</td>\n",
       "      <td>0</td>\n",
       "      <td>NaN</td>\n",
       "      <td>NaN</td>\n",
       "      <td>163</td>\n",
       "      <td>NaN</td>\n",
       "      <td>NaN</td>\n",
       "    </tr>\n",
       "    <tr>\n",
       "      <th>1231</th>\n",
       "      <td>WSA</td>\n",
       "      <td>AL</td>\n",
       "      <td>1962</td>\n",
       "      <td>599</td>\n",
       "      <td>716</td>\n",
       "      <td>60</td>\n",
       "      <td>0.308</td>\n",
       "      <td>0.373</td>\n",
       "      <td>0.250</td>\n",
       "      <td>0</td>\n",
       "      <td>NaN</td>\n",
       "      <td>NaN</td>\n",
       "      <td>162</td>\n",
       "      <td>NaN</td>\n",
       "      <td>NaN</td>\n",
       "    </tr>\n",
       "  </tbody>\n",
       "</table>\n",
       "<p>1232 rows × 15 columns</p>\n",
       "</div>"
      ],
      "text/plain": [
       "     Team League  Year   RS   RA    W    OBP    SLG     BA  Playoffs  \\\n",
       "0     ARI     NL  2012  734  688   81  0.328  0.418  0.259         0   \n",
       "1     ATL     NL  2012  700  600   94  0.320  0.389  0.247         1   \n",
       "2     BAL     AL  2012  712  705   93  0.311  0.417  0.247         1   \n",
       "3     BOS     AL  2012  734  806   69  0.315  0.415  0.260         0   \n",
       "4     CHC     NL  2012  613  759   61  0.302  0.378  0.240         0   \n",
       "...   ...    ...   ...  ...  ...  ...    ...    ...    ...       ...   \n",
       "1227  PHI     NL  1962  705  759   81  0.330  0.390  0.260         0   \n",
       "1228  PIT     NL  1962  706  626   93  0.321  0.394  0.268         0   \n",
       "1229  SFG     NL  1962  878  690  103  0.341  0.441  0.278         1   \n",
       "1230  STL     NL  1962  774  664   84  0.335  0.394  0.271         0   \n",
       "1231  WSA     AL  1962  599  716   60  0.308  0.373  0.250         0   \n",
       "\n",
       "      RankSeason  RankPlayoffs    G   OOBP   OSLG  \n",
       "0            NaN           NaN  162  0.317  0.415  \n",
       "1            4.0           5.0  162  0.306  0.378  \n",
       "2            5.0           4.0  162  0.315  0.403  \n",
       "3            NaN           NaN  162  0.331  0.428  \n",
       "4            NaN           NaN  162  0.335  0.424  \n",
       "...          ...           ...  ...    ...    ...  \n",
       "1227         NaN           NaN  161    NaN    NaN  \n",
       "1228         NaN           NaN  161    NaN    NaN  \n",
       "1229         1.0           2.0  165    NaN    NaN  \n",
       "1230         NaN           NaN  163    NaN    NaN  \n",
       "1231         NaN           NaN  162    NaN    NaN  \n",
       "\n",
       "[1232 rows x 15 columns]"
      ]
     },
     "execution_count": 1,
     "metadata": {},
     "output_type": "execute_result"
    }
   ],
   "source": [
    "import pandas as pd\n",
    "import numpy as np\n",
    "import matplotlib.pyplot as plt\n",
    "import seaborn as sns\n",
    "\n",
    "\n",
    "stats = pd.read_csv(\"baseball.csv\")\n",
    "stats"
   ]
  },
  {
   "cell_type": "code",
   "execution_count": 2,
   "id": "9ebe8f51-a6bd-47b9-bcdc-c2234fbe9051",
   "metadata": {},
   "outputs": [
    {
     "data": {
      "image/png": "[encoded data removed]",
      "text/plain": [
       "<Figure size 432x288 with 1 Axes>"
      ]
     },
     "metadata": {
      "needs_background": "light"
     },
     "output_type": "display_data"
    },
    {
     "data": {
      "image/png": "[encoded data removed]",
      "text/plain": [
       "<Figure size 576x432 with 1 Axes>"
      ]
     },
     "metadata": {
      "needs_background": "light"
     },
     "output_type": "display_data"
    },
    {
     "data": {
      "text/plain": [
       "Team              0\n",
       "League            0\n",
       "Year              0\n",
       "RS                0\n",
       "RA                0\n",
       "W                 0\n",
       "OBP               0\n",
       "SLG               0\n",
       "BA                0\n",
       "Playoffs          0\n",
       "RankSeason      988\n",
       "RankPlayoffs    988\n",
       "G                 0\n",
       "OOBP            812\n",
       "OSLG            812\n",
       "dtype: int64"
      ]
     },
     "execution_count": 2,
     "metadata": {},
     "output_type": "execute_result"
    }
   ],
   "source": [
    "# Check for missing values\n",
    "missing_values = stats.isnull().sum()\n",
    "\n",
    "# Visualize the distribution of the 'Playoffs' variable\n",
    "plt.figure(figsize=(6, 4))\n",
    "sns.countplot(x='Playoffs', data=stats)\n",
    "plt.title('Distribution of Playoffs')\n",
    "plt.show()\n",
    "\n",
    "numeric_features = stats.select_dtypes(include=['int64', 'float64']).drop(columns=['Playoffs'])  # Drop 'Playoffs' from predictors\n",
    "\n",
    "correlations = numeric_features.corrwith(stats['Playoffs'])\n",
    "\n",
    "\n",
    "# Plot the correlations with 'Playoffs'\n",
    "plt.figure(figsize=(8, 6))\n",
    "correlations.sort_values().plot(kind='barh', color='skyblue')\n",
    "plt.title('Correlation of Features with Playoffs')\n",
    "plt.xlabel('Correlation Coefficient')\n",
    "plt.show()\n",
    "\n",
    "# Display missing values\n",
    "missing_values"
   ]
  },
  {
   "cell_type": "raw",
   "id": "92b181e8-09a7-47e8-9e49-fbe9875d489c",
   "metadata": {},
   "source": [
    " "
   ]
  },
  {
   "cell_type": "code",
   "execution_count": null,
   "id": "6132cf32-d25e-481d-9b14-8eedbadd06b3",
   "metadata": {},
   "outputs": [],
   "source": []
  },
  {
   "cell_type": "code",
   "execution_count": 3,
   "id": "fc84bf39-3a6e-4ba5-bc5c-ecb163f5be50",
   "metadata": {},
   "outputs": [],
   "source": [
    "#Splitting data into train validate and test catagories \n",
    "from sklearn.model_selection import train_test_split\n",
    "from sklearn.metrics import ConfusionMatrixDisplay, classification_report,accuracy_score, precision_score, recall_score, f1_score, confusion_matrix\n",
    "\n",
    "\n",
    "from sklearn.neighbors import KNeighborsClassifier\n",
    "\n",
    "\n",
    "\n",
    "X = stats[['OBP','SLG','BA']]\n",
    "y = stats['Playoffs']\n",
    "\n",
    "# Split the dataset into training, validation and test sets\n",
    "X_temp, X_test, y_temp, y_test = train_test_split(X, y, test_size=0.2, random_state=42)\n",
    "\n",
    "X_train, X_val, y_train, y_val = train_test_split(X_temp, y_temp, test_size=0.2, random_state=42)\n"
   ]
  },
  {
   "cell_type": "code",
   "execution_count": 13,
   "id": "2f721f8a-24d6-45d2-9d4d-d9c85d33ea7d",
   "metadata": {},
   "outputs": [
    {
     "data": {
      "image/png": "[encoded data removed]",
      "text/plain": [
       "<Figure size 432x288 with 2 Axes>"
      ]
     },
     "metadata": {
      "needs_background": "light"
     },
     "output_type": "display_data"
    },
    {
     "name": "stdout",
     "output_type": "stream",
     "text": [
      "KNN Accuracy: 0.7969543147208121\n",
      "\n",
      "Classification Report:\n",
      "               precision    recall  f1-score   support\n",
      "\n",
      "           0       0.85      0.91      0.88       158\n",
      "           1       0.48      0.36      0.41        39\n",
      "\n",
      "    accuracy                           0.80       197\n",
      "   macro avg       0.67      0.63      0.64       197\n",
      "weighted avg       0.78      0.80      0.79       197\n",
      "\n",
      "Specificity: 0.9050632911392406 25\n"
     ]
    }
   ],
   "source": [
    "# Create a KNN classifier object\n",
    "knn = KNeighborsClassifier(n_neighbors=5) \n",
    "\n",
    "# Fit the model on the training data\n",
    "knn.fit(X_train, y_train)\n",
    "\n",
    "# Make predictions on the validation data\n",
    "y_val_pred1 = knn.predict(X_val)\n",
    "val_accuracy1 = accuracy_score(y_val, y_val_pred1)\n",
    "\n",
    "conf_matrix1 = confusion_matrix(y_val, y_val_pred1)\n",
    "\n",
    "# Display the confusion matrix\n",
    "disp = ConfusionMatrixDisplay(confusion_matrix=conf_matrix1)\n",
    "disp.plot(cmap=plt.cm.Blues)\n",
    "plt.title(\"KNN Confusion Matrix\")\n",
    "plt.show()\n",
    "print('KNN Accuracy:',val_accuracy1)\n",
    "test_accuracy = accuracy_score(y_val, y_val_pred1)\n",
    "\n",
    "print(\"\\nClassification Report:\\n\", classification_report(y_val, y_val_pred1))\n",
    "\n",
    "tn, fp, fn, tp = confusion_matrix(y_val, y_val_pred1).ravel()\n",
    "# Calculate specificity\n",
    "\n",
    "specificity = tn / (tn + fp)\n",
    "print('Specificity:',specificity,fn)"
   ]
  },
  {
   "cell_type": "code",
   "execution_count": 11,
   "id": "a866b3bf-6f0b-4ffd-bfec-3cba74631870",
   "metadata": {},
   "outputs": [
    {
     "data": {
      "image/png": "[encoded data removed]",
      "text/plain": [
       "<Figure size 432x288 with 2 Axes>"
      ]
     },
     "metadata": {
      "needs_background": "light"
     },
     "output_type": "display_data"
    },
    {
     "name": "stdout",
     "output_type": "stream",
     "text": [
      "\n",
      "Classification Report:\n",
      "               precision    recall  f1-score   support\n",
      "\n",
      "           0       0.88      0.81      0.84       158\n",
      "           1       0.42      0.56      0.48        39\n",
      "\n",
      "    accuracy                           0.76       197\n",
      "   macro avg       0.65      0.69      0.66       197\n",
      "weighted avg       0.79      0.76      0.77       197\n",
      "\n",
      "128 30\n",
      "Specificity: 0.810126582278481\n"
     ]
    }
   ],
   "source": [
    "from sklearn.naive_bayes import GaussianNB\n",
    "from sklearn.metrics import accuracy_score, classification_report\n",
    "\n",
    "# Create a Gaussian Naive Bayes classifier\n",
    "gnb = GaussianNB()\n",
    "\n",
    "# Train the classifier\n",
    "gnb.fit(X_train, y_train)\n",
    "\n",
    "# Make predictions on the validation data\n",
    "y_val_pred2 = gnb.predict(X_val)\n",
    "val_accuracy2 = accuracy_score(y_val, y_val_pred2)\n",
    "\n",
    "conf_matrix2 = confusion_matrix(y_val, y_val_pred2)\n",
    "\n",
    "# Display the confusion matrix\n",
    "disp = ConfusionMatrixDisplay(confusion_matrix=conf_matrix2)\n",
    "disp.plot(cmap=plt.cm.Blues)\n",
    "plt.title(\"Naive Bayes Confusion Matrix\")\n",
    "plt.show()\n",
    "\n",
    "print(\"\\nClassification Report:\\n\", classification_report(y_val, y_val_pred2))\n",
    "\n",
    "tn, fp, fn, tp = confusion_matrix(y_val, y_val_pred2).ravel()\n",
    "\n",
    "# Calculate specificity\n",
    "specificity = tn / (tn + fp)\n",
    "print('Specificity:',specificity)"
   ]
  },
  {
   "cell_type": "code",
   "execution_count": 6,
   "id": "50acb078-9a31-43c8-b6c9-a2be42ee68ba",
   "metadata": {},
   "outputs": [
    {
     "data": {
      "image/png": "[encoded data removed]",
      "text/plain": [
       "<Figure size 432x288 with 2 Axes>"
      ]
     },
     "metadata": {
      "needs_background": "light"
     },
     "output_type": "display_data"
    },
    {
     "name": "stdout",
     "output_type": "stream",
     "text": [
      "\n",
      "Classification Report:\n",
      "               precision    recall  f1-score   support\n",
      "\n",
      "           0       0.83      0.77      0.80       158\n",
      "           1       0.28      0.36      0.31        39\n",
      "\n",
      "    accuracy                           0.69       197\n",
      "   macro avg       0.55      0.57      0.56       197\n",
      "weighted avg       0.72      0.69      0.70       197\n",
      "\n",
      "Specificity: 0.7721518987341772\n"
     ]
    }
   ],
   "source": [
    "from sklearn.tree import DecisionTreeClassifier, plot_tree\n",
    "\n",
    "\n",
    "# Create a Decision Tree classifier\n",
    "dtc = DecisionTreeClassifier(random_state=42)\n",
    "\n",
    "# Train the classifier\n",
    "dtc.fit(X_train, y_train)\n",
    "\n",
    "# Make predictions on the validation data\n",
    "y_val_pred3 = dtc.predict(X_val)\n",
    "val_accuracy3 = accuracy_score(y_val, y_val_pred3)\n",
    "\n",
    "conf_matrix3 = confusion_matrix(y_val, y_val_pred3)\n",
    "\n",
    "# Display the confusion matrix\n",
    "disp = ConfusionMatrixDisplay(confusion_matrix=conf_matrix3)\n",
    "disp.plot(cmap=plt.cm.Blues)\n",
    "plt.title(\"Decision Tree Confusion Matrix\")\n",
    "plt.show()\n",
    "print(\"\\nClassification Report:\\n\", classification_report(y_val, y_val_pred3))\n",
    "tn, fp, fn, tp = confusion_matrix(y_val, y_val_pred3).ravel()\n",
    "\n",
    "# Calculate specificity\n",
    "specificity = tn / (tn + fp)\n",
    "print('Specificity:',specificity)"
   ]
  },
  {
   "cell_type": "code",
   "execution_count": 7,
   "id": "6623ac3d-cb84-45d6-bc88-4319d59a6ec1",
   "metadata": {},
   "outputs": [
    {
     "data": {
      "image/png": "[encoded data removed]",
      "text/plain": [
       "<Figure size 720x432 with 1 Axes>"
      ]
     },
     "metadata": {
      "needs_background": "light"
     },
     "output_type": "display_data"
    }
   ],
   "source": [
    "from sklearn.metrics import roc_curve, roc_auc_score\n",
    "\n",
    "\n",
    "probs_knn = knn.predict_proba(X_val)[:, 1]\n",
    "probs_gnb = gnb.predict_proba(X_val)[:, 1]\n",
    "probs_dtc = dtc.predict_proba(X_val)[:, 1]\n",
    "\n",
    "# Calculate ROC\n",
    "fpr_knn, tpr_knn, _ = roc_curve(y_val, probs_knn)\n",
    "fpr_gnb, tpr_gnb, _ = roc_curve(y_val, probs_gnb)\n",
    "fpr_dtc, tpr_dtc, _ = roc_curve(y_val, probs_dtc)\n",
    "\n",
    "# Calculate AUC\n",
    "auc_knn = roc_auc_score(y_val, probs_knn)\n",
    "auc_gnb = roc_auc_score(y_val, probs_gnb)\n",
    "auc_dtc = roc_auc_score(y_val, probs_dtc)\n",
    "\n",
    "# Plot ROC curve\n",
    "plt.figure(figsize=(10, 6))\n",
    "plt.plot(fpr_knn, tpr_knn, label=f'KNN (AUC = {auc_knn:.2f})', color='blue')\n",
    "plt.plot(fpr_gnb, tpr_gnb, label=f'Naive Bayes (AUC = {auc_gnb:.2f})', color='green')\n",
    "plt.plot(fpr_dtc, tpr_dtc, label=f'Decision Tree (AUC = {auc_dtc:.2f})', color='red')\n",
    "\n",
    "plt.plot([0, 1], [0, 1], color='black')\n",
    "\n",
    "plt.xlabel('False Positive Rate')\n",
    "plt.ylabel('True Positive Rate')\n",
    "plt.title('ROC Curve for KNN, Naive Bayes, and Decision Tree')\n",
    "plt.legend(loc='lower right')\n",
    "plt.show()"
   ]
  },
  {
   "cell_type": "code",
   "execution_count": 8,
   "id": "7ed1bde7-219c-44f5-a515-ba800e44fcc8",
   "metadata": {},
   "outputs": [
    {
     "data": {
      "image/png": "[encoded data removed]",
      "text/plain": [
       "<Figure size 432x288 with 2 Axes>"
      ]
     },
     "metadata": {
      "needs_background": "light"
     },
     "output_type": "display_data"
    },
    {
     "name": "stdout",
     "output_type": "stream",
     "text": [
      "\n",
      "Classification Report:\n",
      "               precision    recall  f1-score   support\n",
      "\n",
      "           0       0.90      0.82      0.86       203\n",
      "           1       0.41      0.57      0.48        44\n",
      "\n",
      "    accuracy                           0.78       247\n",
      "   macro avg       0.65      0.70      0.67       247\n",
      "weighted avg       0.81      0.78      0.79       247\n",
      "\n",
      "Specificity: 0.8226600985221675\n"
     ]
    }
   ],
   "source": [
    "# Make predictions on the test data\n",
    "y_test_pred = gnb.predict(X_test)\n",
    "test_accuracy = accuracy_score(y_test, y_test_pred)\n",
    "\n",
    "test_conf_matrix = confusion_matrix(y_test, y_test_pred)\n",
    "\n",
    "# Display the confusion matrix\n",
    "disp = ConfusionMatrixDisplay(confusion_matrix=test_conf_matrix)\n",
    "disp.plot(cmap=plt.cm.Blues)\n",
    "plt.title(\"Naive Bayes Confusion Matrix\")\n",
    "plt.show()\n",
    "\n",
    "print(\"\\nClassification Report:\\n\", classification_report(y_test, y_test_pred))\n",
    "tn, fp, fn, tp = confusion_matrix(y_test, y_test_pred).ravel()\n",
    "\n",
    "# Calculate specificity\n",
    "specificity = tn / (tn + fp)\n",
    "print('Specificity:',specificity)"
   ]
  },
  {
   "cell_type": "code",
   "execution_count": null,
   "id": "7f25dcff-dbbb-4f46-9ef6-2b71a929ccbe",
   "metadata": {},
   "outputs": [],
   "source": []
  },
  {
   "cell_type": "code",
   "execution_count": null,
   "id": "93d76530-87c9-4be6-aaf9-cfe74fc69e03",
   "metadata": {},
   "outputs": [],
   "source": []
  }
 ],
 "metadata": {
  "kernelspec": {
   "display_name": "Python 3 (ipykernel)",
   "language": "python",
   "name": "python3"
  },
  "language_info": {
   "codemirror_mode": {
    "name": "ipython",
    "version": 3
   },
   "file_extension": ".py",
   "mimetype": "text/x-python",
   "name": "python",
   "nbconvert_exporter": "python",
   "pygments_lexer": "ipython3",
   "version": "3.9.7"
  }
 },
 "nbformat": 4,
 "nbformat_minor": 5
}
